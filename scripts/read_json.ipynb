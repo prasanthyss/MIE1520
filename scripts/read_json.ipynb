{
 "cells": [
  {
   "cell_type": "code",
   "execution_count": 6,
   "metadata": {},
   "outputs": [
    {
     "name": "stdout",
     "output_type": "stream",
     "text": [
      "Replacement completed.\n"
     ]
    }
   ],
   "source": [
    "filepath = \"../logs/test.json\"\n",
    "# Open the file for reading\n",
    "with open(filepath, 'r') as file:\n",
    "    # Read the content of the file\n",
    "    content = file.read()\n",
    "\n",
    "# Replace single quotes with double quotes\n",
    "content = content.replace(\"'\", '\"')\n",
    "\n",
    "# Open the file for writing (this will overwrite the existing file)\n",
    "with open(filepath, 'w') as file:\n",
    "    # Write the modified content back to the file\n",
    "    file.write(content)\n",
    "\n",
    "print(\"Replacement completed.\")\n"
   ]
  },
  {
   "cell_type": "markdown",
   "metadata": {},
   "source": [
    "## Convert .txt to .json"
   ]
  },
  {
   "cell_type": "code",
   "execution_count": 22,
   "metadata": {},
   "outputs": [],
   "source": [
    "import os\n",
    "import json\n",
    "\n",
    "def replace_quotes(line):\n",
    "    # Replace single quotes with double quotes\n",
    "    return line.replace(\"'\", '\"')\n",
    "\n",
    "def process_txt_files(folder_path):\n",
    "    # Iterate through files in the folder\n",
    "    for filename in os.listdir(folder_path):\n",
    "        if filename.endswith(\".txt\"):\n",
    "            file_path = os.path.join(folder_path, filename)\n",
    "            with open(file_path, 'r') as file:\n",
    "                # Read the second line from the file\n",
    "                lines = file.readlines()\n",
    "                if len(lines) >= 2:\n",
    "                    second_line = lines[1].strip()\n",
    "                    second_line = replace_quotes(second_line)\n",
    "                    line = second_line\n",
    "\n",
    "            json_file = os.path.splitext(file_path)[0] + '.json'\n",
    "            with open(json_file, 'w') as file:\n",
    "                # Read the second line from the file\n",
    "                file.write(line)\n",
    "\n",
    "process_txt_files()"
   ]
  },
  {
   "cell_type": "markdown",
   "metadata": {},
   "source": [
    "## Read Json Files"
   ]
  },
  {
   "cell_type": "code",
   "execution_count": 24,
   "metadata": {},
   "outputs": [],
   "source": [
    "# tasks\n",
    "tasks = ['bert-base-uncased_anli', 'bert-large-uncased_anli', \\\n",
    "              'roberta-base_anli', 'roberta-large_anli', 'roberta-large_mrpc',\\\n",
    "                'roberta-large_qqp', 'roberta-large_sst']\n",
    "\n",
    "def collect_data(finetune_type):\n",
    "    \"\"\"\n",
    "    go through all the 'task.json' files \n",
    "    and collect best train and test accuracies\n",
    "    \"\"\"\n",
    "\n",
    "    def read_json_file(file_path):\n",
    "        # Open the JSON file for reading\n",
    "        with open(file_path, 'r') as file:\n",
    "            # Load the JSON data\n",
    "            data = json.load(file)\n",
    "        return data\n",
    "\n",
    "    def collect_accuracy(json_data):\n",
    "        train_accuracies = []\n",
    "        test_accuracies = []\n",
    "        for data in json_data:\n",
    "            if 'eval_train_accuracy' in data:\n",
    "                train_accuracies.append((data['eval_train_accuracy'], data['eval_train_loss'], data['epoch']))\n",
    "            if 'eval_test_accuracy' in data:\n",
    "                test_accuracies.append((data['eval_test_accuracy'], data['eval_test_loss'], data['epoch']))\n",
    "        \n",
    "        return train_accuracies.sort(), test_accuracies.sort()\n",
    "    \n",
    "    \n",
    "    folderpath = \"../logs\"\n",
    "    result_dict = {}\n",
    "    for task in tasks:\n",
    "      file_path = os.path.join(folderpath, '_'.join([finetune_type, task+'.json']))\n",
    "      if (os.path.exists(file_path)):\n",
    "         json_data = read_json_file(file_path)\n",
    "         train, test = collect_accuracy(json_data)\n",
    "         best_train = train[0][0]\n",
    "         best_test = test[0][0]\n",
    "         result_dict[task] = {'train': best_train, 'test': best_test}\n",
    "\n",
    "    return result_dict"
   ]
  },
  {
   "cell_type": "code",
   "execution_count": null,
   "metadata": {},
   "outputs": [],
   "source": []
  }
 ],
 "metadata": {
  "kernelspec": {
   "display_name": "base",
   "language": "python",
   "name": "python3"
  },
  "language_info": {
   "codemirror_mode": {
    "name": "ipython",
    "version": 3
   },
   "file_extension": ".py",
   "mimetype": "text/x-python",
   "name": "python",
   "nbconvert_exporter": "python",
   "pygments_lexer": "ipython3",
   "version": "3.11.6"
  }
 },
 "nbformat": 4,
 "nbformat_minor": 2
}
